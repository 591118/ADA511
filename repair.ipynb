{
 "cells": [
  {
   "cell_type": "code",
   "execution_count": 20,
   "metadata": {},
   "outputs": [],
   "source": [
    "import pandas as pd"
   ]
  },
  {
   "cell_type": "code",
   "execution_count": 21,
   "metadata": {},
   "outputs": [
    {
     "data": {
      "text/html": [
       "<div>\n",
       "<style scoped>\n",
       "    .dataframe tbody tr th:only-of-type {\n",
       "        vertical-align: middle;\n",
       "    }\n",
       "\n",
       "    .dataframe tbody tr th {\n",
       "        vertical-align: top;\n",
       "    }\n",
       "\n",
       "    .dataframe thead th {\n",
       "        text-align: right;\n",
       "    }\n",
       "</style>\n",
       "<table border=\"1\" class=\"dataframe\">\n",
       "  <thead>\n",
       "    <tr style=\"text-align: right;\">\n",
       "      <th></th>\n",
       "      <th>Outcome</th>\n",
       "      <th>Method</th>\n",
       "      <th>Location</th>\n",
       "    </tr>\n",
       "  </thead>\n",
       "  <tbody>\n",
       "    <tr>\n",
       "      <th>0</th>\n",
       "      <td>success</td>\n",
       "      <td>old</td>\n",
       "      <td>onsite</td>\n",
       "    </tr>\n",
       "    <tr>\n",
       "      <th>1</th>\n",
       "      <td>failure</td>\n",
       "      <td>new</td>\n",
       "      <td>remote</td>\n",
       "    </tr>\n",
       "    <tr>\n",
       "      <th>2</th>\n",
       "      <td>failure</td>\n",
       "      <td>old</td>\n",
       "      <td>remote</td>\n",
       "    </tr>\n",
       "    <tr>\n",
       "      <th>3</th>\n",
       "      <td>failure</td>\n",
       "      <td>new</td>\n",
       "      <td>remote</td>\n",
       "    </tr>\n",
       "    <tr>\n",
       "      <th>4</th>\n",
       "      <td>failure</td>\n",
       "      <td>old</td>\n",
       "      <td>remote</td>\n",
       "    </tr>\n",
       "    <tr>\n",
       "      <th>5</th>\n",
       "      <td>failure</td>\n",
       "      <td>old</td>\n",
       "      <td>remote</td>\n",
       "    </tr>\n",
       "    <tr>\n",
       "      <th>6</th>\n",
       "      <td>success</td>\n",
       "      <td>new</td>\n",
       "      <td>onsite</td>\n",
       "    </tr>\n",
       "    <tr>\n",
       "      <th>7</th>\n",
       "      <td>success</td>\n",
       "      <td>old</td>\n",
       "      <td>remote</td>\n",
       "    </tr>\n",
       "    <tr>\n",
       "      <th>8</th>\n",
       "      <td>success</td>\n",
       "      <td>new</td>\n",
       "      <td>onsite</td>\n",
       "    </tr>\n",
       "    <tr>\n",
       "      <th>9</th>\n",
       "      <td>success</td>\n",
       "      <td>new</td>\n",
       "      <td>remote</td>\n",
       "    </tr>\n",
       "    <tr>\n",
       "      <th>10</th>\n",
       "      <td>success</td>\n",
       "      <td>old</td>\n",
       "      <td>onsite</td>\n",
       "    </tr>\n",
       "    <tr>\n",
       "      <th>11</th>\n",
       "      <td>success</td>\n",
       "      <td>old</td>\n",
       "      <td>onsite</td>\n",
       "    </tr>\n",
       "    <tr>\n",
       "      <th>12</th>\n",
       "      <td>failure</td>\n",
       "      <td>old</td>\n",
       "      <td>remote</td>\n",
       "    </tr>\n",
       "    <tr>\n",
       "      <th>13</th>\n",
       "      <td>success</td>\n",
       "      <td>new</td>\n",
       "      <td>onsite</td>\n",
       "    </tr>\n",
       "    <tr>\n",
       "      <th>14</th>\n",
       "      <td>failure</td>\n",
       "      <td>new</td>\n",
       "      <td>onsite</td>\n",
       "    </tr>\n",
       "    <tr>\n",
       "      <th>15</th>\n",
       "      <td>failure</td>\n",
       "      <td>old</td>\n",
       "      <td>onsite</td>\n",
       "    </tr>\n",
       "    <tr>\n",
       "      <th>16</th>\n",
       "      <td>failure</td>\n",
       "      <td>old</td>\n",
       "      <td>remote</td>\n",
       "    </tr>\n",
       "    <tr>\n",
       "      <th>17</th>\n",
       "      <td>failure</td>\n",
       "      <td>old</td>\n",
       "      <td>remote</td>\n",
       "    </tr>\n",
       "    <tr>\n",
       "      <th>18</th>\n",
       "      <td>success</td>\n",
       "      <td>new</td>\n",
       "      <td>onsite</td>\n",
       "    </tr>\n",
       "    <tr>\n",
       "      <th>19</th>\n",
       "      <td>success</td>\n",
       "      <td>old</td>\n",
       "      <td>remote</td>\n",
       "    </tr>\n",
       "    <tr>\n",
       "      <th>20</th>\n",
       "      <td>success</td>\n",
       "      <td>new</td>\n",
       "      <td>onsite</td>\n",
       "    </tr>\n",
       "    <tr>\n",
       "      <th>21</th>\n",
       "      <td>failure</td>\n",
       "      <td>new</td>\n",
       "      <td>remote</td>\n",
       "    </tr>\n",
       "    <tr>\n",
       "      <th>22</th>\n",
       "      <td>failure</td>\n",
       "      <td>new</td>\n",
       "      <td>remote</td>\n",
       "    </tr>\n",
       "    <tr>\n",
       "      <th>23</th>\n",
       "      <td>success</td>\n",
       "      <td>new</td>\n",
       "      <td>onsite</td>\n",
       "    </tr>\n",
       "    <tr>\n",
       "      <th>24</th>\n",
       "      <td>success</td>\n",
       "      <td>old</td>\n",
       "      <td>onsite</td>\n",
       "    </tr>\n",
       "    <tr>\n",
       "      <th>25</th>\n",
       "      <td>failure</td>\n",
       "      <td>new</td>\n",
       "      <td>onsite</td>\n",
       "    </tr>\n",
       "  </tbody>\n",
       "</table>\n",
       "</div>"
      ],
      "text/plain": [
       "    Outcome Method Location\n",
       "0   success    old   onsite\n",
       "1   failure    new   remote\n",
       "2   failure    old   remote\n",
       "3   failure    new   remote\n",
       "4   failure    old   remote\n",
       "5   failure    old   remote\n",
       "6   success    new   onsite\n",
       "7   success    old   remote\n",
       "8   success    new   onsite\n",
       "9   success    new   remote\n",
       "10  success    old   onsite\n",
       "11  success    old   onsite\n",
       "12  failure    old   remote\n",
       "13  success    new   onsite\n",
       "14  failure    new   onsite\n",
       "15  failure    old   onsite\n",
       "16  failure    old   remote\n",
       "17  failure    old   remote\n",
       "18  success    new   onsite\n",
       "19  success    old   remote\n",
       "20  success    new   onsite\n",
       "21  failure    new   remote\n",
       "22  failure    new   remote\n",
       "23  success    new   onsite\n",
       "24  success    old   onsite\n",
       "25  failure    new   onsite"
      ]
     },
     "execution_count": 21,
     "metadata": {},
     "output_type": "execute_result"
    }
   ],
   "source": [
    "df = pd.read_csv('repair_data.csv')\n",
    "df"
   ]
  },
  {
   "cell_type": "code",
   "execution_count": 22,
   "metadata": {},
   "outputs": [
    {
     "name": "stdout",
     "output_type": "stream",
     "text": [
      "0.5384615384615384\n"
     ]
    }
   ],
   "source": [
    "new_method_df = df[df['Method'] == 'new']\n",
    "\n",
    "# Calculate the number of 'success' outcomes for the 'new' method\n",
    "success_count = new_method_df['Outcome'].value_counts()['success']\n",
    "\n",
    "# Calculate the ratio\n",
    "ratio_new = success_count / len(new_method_df)\n",
    "\n",
    "print(ratio_new)"
   ]
  },
  {
   "cell_type": "code",
   "execution_count": 23,
   "metadata": {},
   "outputs": [
    {
     "name": "stdout",
     "output_type": "stream",
     "text": [
      "0.46153846153846156\n"
     ]
    }
   ],
   "source": [
    "# Filter the DataFrame for 'new' method\n",
    "old_method_df = df[df['Method'] == 'old']\n",
    "\n",
    "# Calculate the number of 'success' outcomes for the 'new' method\n",
    "success_count = old_method_df['Outcome'].value_counts()['success']\n",
    "\n",
    "# Calculate the ratio\n",
    "ratio_old = success_count / (len(old_method_df))\n",
    "\n",
    "print(ratio_old)"
   ]
  },
  {
   "cell_type": "code",
   "execution_count": 25,
   "metadata": {},
   "outputs": [
    {
     "name": "stdout",
     "output_type": "stream",
     "text": [
      "0.75\n"
     ]
    }
   ],
   "source": [
    "# Filter the DataFrame for 'old' method and 'onsite' location\n",
    "new_method_onsite_df = df.loc[(df['Method'] == 'new') & (df['Location'] == 'onsite')]\n",
    "\n",
    "# Calculate the number of 'success' outcomes for 'old' method and 'onsite' location\n",
    "success_count = new_method_onsite_df['Outcome'].value_counts()['success']\n",
    "\n",
    "# Calculate the total number of rows in the filtered DataFrame\n",
    "total_rows = len(new_method_onsite_df)\n",
    "\n",
    "# Calculate the ratio\n",
    "ratio_old_onsite = success_count / total_rows\n",
    "\n",
    "print(ratio_old_onsite)\n"
   ]
  },
  {
   "cell_type": "code",
   "execution_count": 26,
   "metadata": {},
   "outputs": [
    {
     "name": "stdout",
     "output_type": "stream",
     "text": [
      "0.8\n"
     ]
    }
   ],
   "source": [
    "# Filter the DataFrame for 'old' method and 'onsite' location\n",
    "old_method_onsite_df = df.loc[(df['Method'] == 'old') & (df['Location'] == 'onsite')]\n",
    "\n",
    "# Calculate the number of 'success' outcomes for 'old' method and 'onsite' location\n",
    "success_count = old_method_onsite_df['Outcome'].value_counts()['success']\n",
    "\n",
    "# Calculate the total number of rows in the filtered DataFrame\n",
    "total_rows = len(old_method_onsite_df)\n",
    "\n",
    "# Calculate the ratio\n",
    "ratio_old_onsite = success_count / total_rows\n",
    "\n",
    "print(ratio_old_onsite)\n"
   ]
  },
  {
   "cell_type": "code",
   "execution_count": 27,
   "metadata": {},
   "outputs": [
    {
     "name": "stdout",
     "output_type": "stream",
     "text": [
      "0.2\n"
     ]
    }
   ],
   "source": [
    "# Filter the DataFrame for 'old' method and 'onsite' location\n",
    "new_method_onsite_df = df.loc[(df['Method'] == 'new') & (df['Location'] == 'remote')]\n",
    "\n",
    "# Calculate the number of 'success' outcomes for 'old' method and 'onsite' location\n",
    "success_count = new_method_onsite_df['Outcome'].value_counts()['success']\n",
    "\n",
    "# Calculate the total number of rows in the filtered DataFrame\n",
    "total_rows = len(new_method_onsite_df)\n",
    "\n",
    "# Calculate the ratio\n",
    "ratio_old_onsite = success_count / total_rows\n",
    "\n",
    "print(ratio_old_onsite)"
   ]
  },
  {
   "cell_type": "code",
   "execution_count": 28,
   "metadata": {},
   "outputs": [
    {
     "name": "stdout",
     "output_type": "stream",
     "text": [
      "0.25\n"
     ]
    }
   ],
   "source": [
    "# Filter the DataFrame for 'old' method and 'onsite' location\n",
    "old_method_onsite_df = df.loc[(df['Method'] == 'old') & (df['Location'] == 'remote')]\n",
    "\n",
    "# Calculate the number of 'success' outcomes for 'old' method and 'onsite' location\n",
    "success_count = old_method_onsite_df['Outcome'].value_counts()['success']\n",
    "\n",
    "# Calculate the total number of rows in the filtered DataFrame\n",
    "total_rows = len(old_method_onsite_df)\n",
    "\n",
    "# Calculate the ratio\n",
    "ratio_old_onsite = success_count / total_rows\n",
    "\n",
    "print(ratio_old_onsite)\n"
   ]
  },
  {
   "cell_type": "code",
   "execution_count": null,
   "metadata": {},
   "outputs": [],
   "source": []
  }
 ],
 "metadata": {
  "kernelspec": {
   "display_name": "base",
   "language": "python",
   "name": "python3"
  },
  "language_info": {
   "codemirror_mode": {
    "name": "ipython",
    "version": 3
   },
   "file_extension": ".py",
   "mimetype": "text/x-python",
   "name": "python",
   "nbconvert_exporter": "python",
   "pygments_lexer": "ipython3",
   "version": "3.8.8"
  },
  "orig_nbformat": 4
 },
 "nbformat": 4,
 "nbformat_minor": 2
}
